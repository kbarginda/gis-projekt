{
 "cells": [
  {
   "cell_type": "code",
   "execution_count": 1,
   "metadata": {},
   "outputs": [
    {
     "data": {
      "application/vnd.jupyter.widget-view+json": {
       "model_id": "c4d3eefd9d464fa8819f07165b021016",
       "version_major": 2,
       "version_minor": 0
      },
      "text/plain": [
       "Map(center=[51.133481, 10.018343], controls=(ZoomControl(options=['position', 'zoom_in_text', 'zoom_in_title',…"
      ]
     },
     "metadata": {},
     "output_type": "display_data"
    }
   ],
   "source": [
    "import pandas as pd\n",
    "import geopandas as gpd\n",
    "from ipyleaflet import (Map, GeoData, basemaps, WidgetControl, ScaleControl, LayersControl,\n",
    "                       GeoJSON, Icon, basemap_to_tiles, Heatmap, SearchControl,\n",
    "                       FullScreenControl)\n",
    "\n",
    "from ipywidgets import Text, HTML\n",
    "from branca.colormap import linear\n",
    "#from random import uniform # remove later, only for playing around\n",
    "import json\n",
    "\n",
    "import numpy as np\n",
    "from shapely.geometry import *\n",
    "import fiona\n",
    "\n",
    "bundeslaender = gpd.read_file(r\"C:\\Users\\Kayla\\Documents\\HCU - Projektsachen\\GIS Projekt\\de_bundeslaender.geojson\")\n",
    "bundeslaender.head()\n",
    "\n",
    "#krimi_laender \n",
    "#krimi_staedte \n",
    "\n",
    "#Basiskarte\n",
    "center = [51.133481, 10.018343]\n",
    "zoom = 5\n",
    "karte = Map(basemap=basemaps.OpenStreetMap.Mapnik, center=center, zoom=zoom)\n",
    "\n",
    "#Bundesländer\n",
    "geodata = GeoData(geo_dataframe = bundeslaender, \n",
    "                  style={'color': 'black', 'fillColor': '#E0D071', 'opacity':0.03, 'weight':1.9,'dashArray':'2', 'fillOpacity':0.6},\n",
    "                         hover_style={'fillColor': '#b08a3e' , 'fillOpacity': 0.8},\n",
    "                         name = 'Bundesländer')\n",
    "\n",
    "#\"EWZ\" (Hover?)\n",
    "#Clustermap -> pro Stadt \n",
    "#Heatmap -> Hotspots\n",
    "\n",
    "#Add Marker -> Calc. Liklihood of Crime occuring at marker \n",
    "\n",
    "\n",
    "\n",
    "\n",
    "\n",
    "#Controls\n",
    "l_control = LayersControl(position='topright')\n",
    "s_control = ScaleControl(position='bottomleft')\n",
    "fs_control = FullScreenControl()\n",
    "'''f_control = SearchControl(position='topleft', url='https://nominatim.openstreetmap.org/search?format=json&q={s}', \n",
    " zoom=5,\n",
    " property_name='GEN'\n",
    " )\n",
    "'''\n",
    "\n",
    "\n",
    "karte.add_control(l_control)\n",
    "karte.add_control(s_control)\n",
    "karte.add_control(fs_control)\n",
    "#karte.add_control(f_control)\n",
    "\n",
    "\n",
    "#Layer \n",
    "#locations = [[uniform(-80, 80), uniform(-180, 180), uniform(0, 1000)] for i in range(1000)]\n",
    "#heatmap = Heatmap(locations=locations, radius = 20)\n",
    "\n",
    "#karte.add_layer(heatmap)\n",
    "karte.add_layer(geodata)\n",
    "\n",
    "karte"
   ]
  },
  {
   "cell_type": "code",
   "execution_count": null,
   "metadata": {},
   "outputs": [],
   "source": []
  }
 ],
 "metadata": {
  "kernelspec": {
   "display_name": "Python 3",
   "language": "python",
   "name": "python3"
  },
  "language_info": {
   "codemirror_mode": {
    "name": "ipython",
    "version": 3
   },
   "file_extension": ".py",
   "mimetype": "text/x-python",
   "name": "python",
   "nbconvert_exporter": "python",
   "pygments_lexer": "ipython3",
   "version": "3.7.4"
  }
 },
 "nbformat": 4,
 "nbformat_minor": 2
}
